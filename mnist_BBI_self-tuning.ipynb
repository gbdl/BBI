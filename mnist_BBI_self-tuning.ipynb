{
 "cells": [
  {
   "cell_type": "code",
   "execution_count": 1,
   "metadata": {},
   "outputs": [],
   "source": [
    "import torch\n",
    "\n",
    "from inflation import BBI, BBI_v0tuning\n",
    "\n",
    "import torch.nn.functional as F\n",
    "import torch.nn as nn\n",
    "\n",
    "import torchvision\n",
    "import torchvision.transforms as transforms\n",
    "\n",
    "import warnings\n",
    "warnings.filterwarnings('ignore')\n",
    "\n",
    "batch_size = 50\n",
    "\n",
    "transform = torchvision.transforms.ToTensor()\n",
    "\n",
    "trainset = torchvision.datasets.MNIST(\n",
    "             root='./mnist/',\n",
    "             train=True,\n",
    "             transform=transform,\n",
    "             download= True\n",
    "             )\n",
    "\n",
    "trainloader = torch.utils.data.DataLoader(trainset, batch_size=batch_size,\n",
    "                                          shuffle=True, num_workers=2)\n",
    "\n",
    "testset = torchvision.datasets.MNIST(\n",
    "             root='./mnist/',\n",
    "             train=False,\n",
    "             transform=transform,\n",
    "             download= True\n",
    "             )\n",
    "\n",
    "testloader = torch.utils.data.DataLoader(testset, batch_size=batch_size,\n",
    "                                          shuffle=False, num_workers=2)\n",
    "\n"
   ]
  },
  {
   "cell_type": "code",
   "execution_count": 2,
   "metadata": {},
   "outputs": [],
   "source": [
    "# The convolutional network\n",
    "\n",
    "class Net(nn.Module):\n",
    "    def __init__(self):\n",
    "        super().__init__()\n",
    "        self.conv1 = nn.Conv2d(1, 16, 5, 1, 2)\n",
    "        self.pool = nn.MaxPool2d(2)\n",
    "        self.conv2 = nn.Conv2d(16, 32, 5, 1, 2)\n",
    "        self.fc1 = nn.Linear(32*7*7, 120)\n",
    "\n",
    "    def forward(self, x):\n",
    "        x = self.pool(F.relu(self.conv1(x)))\n",
    "        x = self.pool(F.relu(self.conv2(x)))\n",
    "        x = torch.flatten(x, 1)\n",
    "        x = self.fc1(x)\n",
    "        return x\n",
    "\n",
    "\n",
    "criterion = nn.CrossEntropyLoss()"
   ]
  },
  {
   "cell_type": "code",
   "execution_count": 3,
   "metadata": {},
   "outputs": [],
   "source": [
    "v0 = 1e-20\n",
    "threshold0 = 100\n",
    "n_fixed_bounces = 5\n",
    "threshold = 1000\n",
    "LR = .2\n",
    "deltaEn = .0\n",
    "weight_decay = 0.0"
   ]
  },
  {
   "cell_type": "code",
   "execution_count": 4,
   "metadata": {
    "scrolled": true
   },
   "outputs": [
    {
     "name": "stdout",
     "output_type": "stream",
     "text": [
      "Run:  0\n",
      "\tEpoch 0\t\t Accuracy: 98.770000\t Loss: 0.16509181261062622070\n",
      "\tEpoch 10\t\t Accuracy: 99.150000\t Loss: 0.00000046729527980460\n",
      "\tEpoch 19\t\t Accuracy: 99.170000\t Loss: 0.00006044310066499747\n",
      "Run:  1\n",
      "\tEpoch 0\t\t Accuracy: 97.920000\t Loss: 0.02141444385051727295\n",
      "\tEpoch 10\t\t Accuracy: 99.290000\t Loss: 0.00001236405296367593\n",
      "\tEpoch 19\t\t Accuracy: 99.230000\t Loss: 0.00002361184851906728\n",
      "Run:  2\n",
      "\tEpoch 0\t\t Accuracy: 97.750000\t Loss: 0.32982391119003295898\n",
      "\tEpoch 10\t\t Accuracy: 99.230000\t Loss: 0.00001444772806280525\n",
      "\tEpoch 19\t\t Accuracy: 99.250000\t Loss: 0.00000003814693627646\n",
      "Run:  3\n",
      "\tEpoch 0\t\t Accuracy: 98.060000\t Loss: 0.01596713997423648834\n",
      "\tEpoch 10\t\t Accuracy: 99.180000\t Loss: 0.00000384775921702385\n",
      "\tEpoch 19\t\t Accuracy: 99.230000\t Loss: 0.00000113007581603597\n",
      "Run:  4\n",
      "\tEpoch 0\t\t Accuracy: 97.850000\t Loss: 0.00033564228215254843\n",
      "\tEpoch 10\t\t Accuracy: 99.370000\t Loss: 0.00010727781045716256\n",
      "\tEpoch 19\t\t Accuracy: 99.320000\t Loss: 0.00000021219146617568\n"
     ]
    }
   ],
   "source": [
    "#This is a run with a tiny v0 (DeltaV), which is never achieved\n",
    "\n",
    "n_epochs = 20\n",
    "check_result = []\n",
    "\n",
    "\n",
    "n_checks = 5\n",
    "\n",
    "for check in range(n_checks):\n",
    "    print(\"Run: \", check )\n",
    "\n",
    "    net = Net()\n",
    "    optimizer = BBI(net.parameters(), lr=LR, deltaEn = deltaEn, v0 = v0, threshold0 = threshold0, threshold = threshold, n_fixed_bounces = n_fixed_bounces)\n",
    "\n",
    "    for epoch in range(n_epochs):  \n",
    "        tests = []\n",
    "        for i, data in enumerate(trainloader, 0):  \n",
    "            inputs, labels = data\n",
    "            optimizer.zero_grad()\n",
    "            outputs = net(inputs)\n",
    "            loss = criterion(outputs, labels)  \n",
    "            loss.backward()\n",
    "            def closure():\n",
    "                    return loss\n",
    "            optimizer.step(closure)\n",
    "\n",
    "        #Then evaluate the performance on the test set, at each epoch\n",
    "        correct = 0\n",
    "        total = 0\n",
    "        with torch.no_grad():\n",
    "            for data in testloader:\n",
    "                images, labels = data\n",
    "                outputs = net(images)\n",
    "                _, predicted = torch.max(outputs.data, 1)\n",
    "                total += labels.size(0)\n",
    "                correct += (predicted == labels).sum().item()\n",
    "\n",
    "        if epoch%10 == 0: print('\\tEpoch %d\\t\\t Accuracy: %f\\t Loss: %.20f' % (epoch, 100 * correct / total, loss.item()))\n",
    "        tests.append(correct/total)\n",
    "    print('\\tEpoch %d\\t\\t Accuracy: %f\\t Loss: %.20f' % (epoch, 100 * correct / total, loss.item()))\n",
    "    \n",
    "    check_result.append(tests)"
   ]
  },
  {
   "cell_type": "code",
   "execution_count": 5,
   "metadata": {},
   "outputs": [
    {
     "name": "stdout",
     "output_type": "stream",
     "text": [
      "tensor(0.9924)\n",
      "tensor(0.0005)\n"
     ]
    }
   ],
   "source": [
    "res_tensor = torch.tensor(check_result).flatten()\n",
    "print(torch.mean(res_tensor))\n",
    "print(torch.std(res_tensor))\n"
   ]
  },
  {
   "cell_type": "code",
   "execution_count": 6,
   "metadata": {},
   "outputs": [
    {
     "name": "stdout",
     "output_type": "stream",
     "text": [
      "Run:  0\n",
      "Warning, self tuning of v0 is still in development!\n",
      "\tEpoch 0\t\t Accuracy: 98.420000\t Loss: 0.08118575811386108398\n",
      "Shifting v0, remember this is still in development!\n",
      "New v0:  -0.0002124840102624148\n",
      "\tEpoch 10\t\t Accuracy: 99.080000\t Loss: 0.00000737064692657441\n",
      "\tEpoch 19\t\t Accuracy: 99.260000\t Loss: 0.00000000000000000000\n",
      "Run:  1\n",
      "Warning, self tuning of v0 is still in development!\n",
      "\tEpoch 0\t\t Accuracy: 97.160000\t Loss: 0.30432710051536560059\n",
      "Shifting v0, remember this is still in development!\n",
      "New v0:  -4.9153204599861056e-05\n",
      "\tEpoch 10\t\t Accuracy: 99.320000\t Loss: 0.00009690123260952532\n",
      "\tEpoch 19\t\t Accuracy: 99.230000\t Loss: 0.00188360107131302357\n",
      "Run:  2\n",
      "Warning, self tuning of v0 is still in development!\n",
      "Shifting v0, remember this is still in development!\n",
      "New v0:  -3.2778050808701664e-05\n",
      "\tEpoch 0\t\t Accuracy: 97.910000\t Loss: 0.15555025637149810791\n",
      "\tEpoch 10\t\t Accuracy: 99.270000\t Loss: 0.01298281550407409668\n",
      "\tEpoch 19\t\t Accuracy: 99.260000\t Loss: 0.00000032424702567369\n",
      "Run:  3\n",
      "Warning, self tuning of v0 is still in development!\n",
      "\tEpoch 0\t\t Accuracy: 98.510000\t Loss: 0.00991395208984613419\n",
      "Shifting v0, remember this is still in development!\n",
      "New v0:  8.727991371415555e-05\n",
      "Shifting v0, remember this is still in development!\n",
      "New v0:  6.921069143572822e-05\n",
      "Shifting v0, remember this is still in development!\n",
      "New v0:  -0.00017253897385671735\n",
      "\tEpoch 10\t\t Accuracy: 99.350000\t Loss: 0.00000431736816608463\n",
      "\tEpoch 19\t\t Accuracy: 99.300000\t Loss: 0.00000026702818445301\n",
      "Run:  4\n",
      "Warning, self tuning of v0 is still in development!\n",
      "Shifting v0, remember this is still in development!\n",
      "New v0:  2.5929730327334255e-05\n",
      "\tEpoch 0\t\t Accuracy: 98.330000\t Loss: 0.21767875552177429199\n",
      "Shifting v0, remember this is still in development!\n",
      "New v0:  -1.4271063264459372e-05\n",
      "\tEpoch 10\t\t Accuracy: 99.100000\t Loss: 0.00142082187812775373\n",
      "\tEpoch 19\t\t Accuracy: 99.220000\t Loss: 0.00000258434533861873\n"
     ]
    }
   ],
   "source": [
    "#This shows that even starting with an higher v0(deltaV), BBI self tunes it\n",
    "v0 = 0.0001\n",
    "n_epochs = 20\n",
    "check_result = []\n",
    "\n",
    "\n",
    "n_checks = 5\n",
    "\n",
    "for check in range(n_checks):\n",
    "    print(\"Run: \", check )\n",
    "\n",
    "    net = Net()\n",
    "    optimizer = BBI_v0tuning(net.parameters(), lr=LR, deltaEn = deltaEn, v0 = v0, threshold0 = threshold0, threshold = threshold, n_fixed_bounces = n_fixed_bounces, weight_decay = weight_decay, v0_tuning = True)\n",
    "\n",
    "    for epoch in range(n_epochs):  \n",
    "        tests = []\n",
    "        for i, data in enumerate(trainloader, 0):  \n",
    "            inputs, labels = data\n",
    "            optimizer.zero_grad()\n",
    "            outputs = net(inputs)\n",
    "            loss = criterion(outputs, labels)  \n",
    "            loss.backward()\n",
    "            def closure():\n",
    "                    return loss\n",
    "            optimizer.step(closure)\n",
    "\n",
    "        #Then evaluate the performance on the test set, at each epoch\n",
    "        correct = 0\n",
    "        total = 0\n",
    "        with torch.no_grad():\n",
    "            for data in testloader:\n",
    "                images, labels = data\n",
    "                outputs = net(images)\n",
    "                _, predicted = torch.max(outputs.data, 1)\n",
    "                total += labels.size(0)\n",
    "                correct += (predicted == labels).sum().item()\n",
    "\n",
    "        if epoch%10 == 0: print('\\tEpoch %d\\t\\t Accuracy: %f\\t Loss: %.20f' % (epoch, 100 * correct / total, loss.item()))\n",
    "        tests.append(correct/total)\n",
    "    print('\\tEpoch %d\\t\\t Accuracy: %f\\t Loss: %.20f' % (epoch, 100 * correct / total, loss.item()))\n",
    "    \n",
    "    check_result.append(tests)"
   ]
  },
  {
   "cell_type": "code",
   "execution_count": 7,
   "metadata": {},
   "outputs": [
    {
     "name": "stdout",
     "output_type": "stream",
     "text": [
      "tensor(0.9925)\n",
      "tensor(0.0003)\n"
     ]
    }
   ],
   "source": [
    "res_tensor = torch.tensor(check_result).flatten()\n",
    "print(torch.mean(res_tensor))\n",
    "print(torch.std(res_tensor))\n"
   ]
  },
  {
   "cell_type": "code",
   "execution_count": null,
   "metadata": {},
   "outputs": [],
   "source": []
  }
 ],
 "metadata": {
  "kernelspec": {
   "display_name": "Python 3 (ipykernel)",
   "language": "python",
   "name": "python3"
  },
  "language_info": {
   "codemirror_mode": {
    "name": "ipython",
    "version": 3
   },
   "file_extension": ".py",
   "mimetype": "text/x-python",
   "name": "python",
   "nbconvert_exporter": "python",
   "pygments_lexer": "ipython3",
   "version": "3.9.10"
  },
  "vscode": {
   "interpreter": {
    "hash": "e7370f93d1d0cde622a1f8e1c04877d8463912d04d973331ad4851f04de6915a"
   }
  }
 },
 "nbformat": 4,
 "nbformat_minor": 2
}
