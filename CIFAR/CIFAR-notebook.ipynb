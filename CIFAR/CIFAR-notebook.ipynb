{
 "cells": [
  {
   "cell_type": "code",
   "execution_count": 1,
   "id": "e098b0a7",
   "metadata": {},
   "outputs": [
    {
     "name": "stdout",
     "output_type": "stream",
     "text": [
      "I am working on  cifar\n",
      "I am running on gpu\n"
     ]
    }
   ],
   "source": [
    "import sys\n",
    "sys.path.append(\"..\")\n",
    "\n",
    "import torch\n",
    "import torch.nn as nn\n",
    "import torch.optim as optim\n",
    "import torch.backends.cudnn as cudnn\n",
    "import os\n",
    "import argparse\n",
    "from inflation import BBI\n",
    "\n",
    "import numpy as np \n",
    "from experiments.cifar import cifar\n",
    "from experiments.PDE_PoissonD import PDE_PoissonD\n",
    "\n",
    "from run_experiment_hyperopt import *\n",
    "\n",
    "from hyperopt import hp, tpe, Trials, fmin\n",
    "import json\n",
    "\n",
    "!mkdir -p results\n",
    "experiment = \"cifar\"\n",
    "\n",
    "tune_epochs = 3  #number of epochs used during the tuning\n",
    "n_trials = 50    #number of evaluations for the tuning, for each optimizer\n",
    "check_epochs = 150 # number of epochs for checking the performance after the tuning\n",
    "\n",
    "# for the general Poisson experiment, choose here the problem number\n",
    "problem_number = None\n",
    "\n",
    "seed = 42\n",
    "\n",
    "#fixed BBI parameters\n",
    "threshold_BBI = 2000\n",
    "threshold0_BBI = 100\n",
    "consEn_BBI = True\n",
    "nFixedBounces_BBI = 100\n",
    "deltaEn = 0.0\n",
    "\n",
    "scanning_pars = {\n",
    "    'tune_epochs': tune_epochs,\n",
    "    'n_trials': n_trials,\n",
    "    'check_epochs': check_epochs,\n",
    "    'seed': seed,\n",
    "    'sgd': {'stepsize': [0.001, 0.2], 'rho': [0.8,1.0]},\n",
    "    'problem': problem_number,\n",
    "    'BBI' : {'stepsize': [0.001, 0.2]}  ,\n",
    "    'comments': 'test Experiment. Fixed BBI pars:\\n'+'\\nthreshold_BBI: '+str(threshold_BBI)+\n",
    "    '\\nthreshold0_BBI: '+str(threshold0_BBI)+\n",
    "    '\\nconsEN_BBI: '+str(consEn_BBI)+\n",
    "    '\\nnFixedBounces_BBI: '+str(nFixedBounces_BBI)+ \n",
    "    '\\ndeltaEn: '+str(deltaEn)\n",
    "}\n",
    "\n",
    "with open('results/scanning-parameters-'+experiment+'.json', 'w') as json_file:\n",
    "  json.dump(scanning_pars, json_file)\n",
    "\n",
    "print(\"I am working on \", experiment)\n",
    "if torch.cuda.is_available(): print(\"I am running on gpu\")\n",
    "else: print(\"I am running on cpu\")"
   ]
  },
  {
   "cell_type": "code",
   "execution_count": 2,
   "id": "0a34b8e9",
   "metadata": {},
   "outputs": [],
   "source": [
    "\n",
    "def run_experiment_sgd(epochs = 2, stepsize = 1e-3, rho = .99):\n",
    "    param_list = [\"main.py\", experiment, \"--optimizer\", \"sgd\",\n",
    "                           \"--lr\", str(stepsize), \"--rho\", str(rho),\n",
    "                           \"--epochs\", str(epochs), \"--seed\", str(seed),\n",
    "                           \"--progress\", \"false\", \"--device\", \"cuda\"]\n",
    "    if experiment == \"PDE_PoissonD\": \n",
    "        param_list.append(\"--problem\")\n",
    "        param_list.append(str(problem_number))\n",
    "    \n",
    "    return run_experiment(param_list)\n",
    "    \n",
    "def run_experiment_BBI(epochs = 2, stepsize = 1e-3, threshold = threshold_BBI, threshold0 = threshold0_BBI, consEn = consEn_BBI, nFixedBounces = nFixedBounces_BBI, deltaEn = deltaEn):\n",
    "    param_list = [\"main.py\", experiment, \"--optimizer\", \"BBI\",\n",
    "                           \"--lr\", str(stepsize),\n",
    "                           \"--epochs\", str(epochs),\"--seed\", str(seed),\n",
    "                           \"--threshold\", str(threshold),\n",
    "                           \"--threshold0\", str(threshold0),\n",
    "                           \"--nFixedBounces\", str(nFixedBounces),\n",
    "                           \"--deltaEn\", str(deltaEn),\n",
    "                           \"--consEn\", str(consEn),\n",
    "                           \"--progress\", \"false\",\"--device\", \"cuda\"]\n",
    "    if experiment == \"PDE_PoissonD\": \n",
    "        param_list.append(\"--problem\")\n",
    "        param_list.append(str(problem_number))\n",
    "        \n",
    "    return run_experiment(param_list)"
   ]
  },
  {
   "cell_type": "code",
   "execution_count": 3,
   "id": "362115ea",
   "metadata": {},
   "outputs": [],
   "source": [
    "def hyperopt_tuning(ranges, optimizer, epochs=10, n_trials=5):\n",
    "        \n",
    "    def optimizer_func(pars):\n",
    "        return optimizer(epochs=epochs, **pars)\n",
    "        \n",
    "    fspace = {}\n",
    "    for par, range in ranges.items(): fspace[par] = hp.uniform(par, *range)\n",
    "\n",
    "    trials = Trials()\n",
    "    best = fmin(fn=optimizer_func, space=fspace, algo=tpe.suggest, trials=trials, max_evals=n_trials)\n",
    "    return best"
   ]
  },
  {
   "cell_type": "code",
   "execution_count": null,
   "id": "eccbb5d6",
   "metadata": {},
   "outputs": [],
   "source": [
    "print(\"Tuning sgd: \")\n",
    "best_par_sgd = hyperopt_tuning(scanning_pars['sgd'], run_experiment_sgd, epochs = tune_epochs, n_trials=n_trials)\n",
    "print(\"best sgd parameters:\", best_par_sgd)"
   ]
  },
  {
   "cell_type": "code",
   "execution_count": null,
   "id": "53f4f399",
   "metadata": {
    "scrolled": true
   },
   "outputs": [],
   "source": [
    "print(\"Tuning BBI: \")\n",
    "best_par_BBI = hyperopt_tuning(scanning_pars['BBI'],run_experiment_BBI, epochs = tune_epochs, n_trials=n_trials)\n",
    "print(\"best BBI parameters:\", best_par_BBI)"
   ]
  },
  {
   "cell_type": "code",
   "execution_count": null,
   "id": "4db57368",
   "metadata": {},
   "outputs": [],
   "source": [
    "print(\"Best parameters\")\n",
    "print(\"sgd:\", best_par_sgd)\n",
    "print(\"BBI:\", best_par_BBI)\n",
    "\n",
    "best_pars = {\n",
    "    'sgd': best_par_sgd,\n",
    "    'BBI': best_par_BBI\n",
    "}\n",
    "\n",
    "with open('results/best-parameters-'+experiment+'.json', 'w') as json_file:\n",
    "  json.dump(best_pars, json_file)"
   ]
  },
  {
   "cell_type": "code",
   "execution_count": null,
   "id": "27b8d986",
   "metadata": {
    "tags": []
   },
   "outputs": [],
   "source": [
    "print(\"Running experiment with the best parameters for more epochs...\")\n",
    "\n",
    "print(\"Running BBI: \")\n",
    "final_loss_BBI = run_experiment_BBI(epochs=check_epochs, **best_par_BBI)\n",
    "print(final_loss_BBI)\n",
    "\n",
    "print(\"Running sgd: \")\n",
    "final_loss_sgd = run_experiment_sgd(epochs=check_epochs, **best_par_sgd)\n",
    "print(final_loss_sgd)\n"
   ]
  },
  {
   "cell_type": "code",
   "execution_count": null,
   "id": "2b0874d1",
   "metadata": {},
   "outputs": [],
   "source": []
  }
 ],
 "metadata": {
  "kernelspec": {
   "display_name": "Python 3 (ipykernel)",
   "language": "python",
   "name": "python3"
  },
  "language_info": {
   "codemirror_mode": {
    "name": "ipython",
    "version": 3
   },
   "file_extension": ".py",
   "mimetype": "text/x-python",
   "name": "python",
   "nbconvert_exporter": "python",
   "pygments_lexer": "ipython3",
   "version": "3.9.0"
  }
 },
 "nbformat": 4,
 "nbformat_minor": 5
}
